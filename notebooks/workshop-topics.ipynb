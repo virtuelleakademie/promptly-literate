{
 "cells": [
  {
   "cell_type": "code",
   "execution_count": 2,
   "metadata": {},
   "outputs": [
    {
     "data": {
      "application/vnd.jupyter.widget-view+json": {
       "model_id": "95f6915624ae42d1b8c607e2b501f516",
       "version_major": 2,
       "version_minor": 0
      },
      "text/plain": [
       "VBox(children=(Button(description='Unterricht & Bildung', style=ButtonStyle()), Button(description='Sprache & …"
      ]
     },
     "execution_count": 2,
     "metadata": {},
     "output_type": "execute_result"
    },
    {
     "data": {
      "application/vnd.jupyter.widget-view+json": {
       "model_id": "dfebe2c4ddf0497ba60945f9f3625eb4",
       "version_major": 2,
       "version_minor": 0
      },
      "text/plain": [
       "HTML(value='<b>Unterricht & Bildung:</b>')"
      ]
     },
     "metadata": {},
     "output_type": "display_data"
    },
    {
     "name": "stdout",
     "output_type": "stream",
     "text": [
      "- MC Fragen Entwicklung\n",
      "- Case Study entwickeln\n",
      "- Unterrichtsvorbereitung\n",
      "- KI-Management in den Unterricht integrieren\n",
      "- Grundlagen kennen lernen\n",
      "- Sinnvoller Einsatz für Lehre reflektieren\n",
      "- Generieren von MC-Fragen\n",
      "- Brainstorming/Ideengenerierung (z.T. mit Studierenden)\n",
      "- Akademisches und berufliches Schreiben unterrichten\n",
      "- Funktionsweise von KI-Schreibtools\n",
      "- Einsatzszenarien für KI-Schreibtools\n",
      "- Reflektierter Umgang mit KI-Schreibtools\n",
      "- Unterstützung für Schüler*innen mit sprachlichen Schwierigkeiten\n",
      "- Verständnis von Schreibtools\n",
      "- Sinnvoller Einsatz von Schreibtools durch Studierende und Mitarbeitende\n"
     ]
    },
    {
     "data": {
      "application/vnd.jupyter.widget-view+json": {
       "model_id": "095517ccf94a4cd1b11b34c093401011",
       "version_major": 2,
       "version_minor": 0
      },
      "text/plain": [
       "HTML(value='<b>Sprache & Schreiben:</b>')"
      ]
     },
     "metadata": {},
     "output_type": "display_data"
    },
    {
     "name": "stdout",
     "output_type": "stream",
     "text": [
      "- Formulierungshilfe bei wissenschaftlichen Schreibarbeiten\n",
      "- Übersetzungen oder Überprüfungen von Texten in Deutsch\n",
      "- Kreative Schreibübung\n",
      "- Übersetzungen\n",
      "- Ideensammlung\n",
      "- Textkorrekturen/-anpassungen\n",
      "- Perspektivenwechsel\n",
      "- Szenarien erfinden lassen\n",
      "- Mails verfassen\n",
      "- Konzepte überprüfen\n"
     ]
    },
    {
     "data": {
      "application/vnd.jupyter.widget-view+json": {
       "model_id": "c703398154444772a4b376fc12eb085a",
       "version_major": 2,
       "version_minor": 0
      },
      "text/plain": [
       "HTML(value='<b>Technologie & Innovation:</b>')"
      ]
     },
     "metadata": {},
     "output_type": "display_data"
    },
    {
     "name": "stdout",
     "output_type": "stream",
     "text": [
      "- Diverses\n",
      "- Zeitersparnis bei Vorbereitungen mithilfe neuer Technologien\n",
      "- Prüfungen mit KI\n",
      "- Open Book Prüfungen\n",
      "- Grenzen der KI ausloten\n",
      "- Interesse an Entwicklungen der Sprachmodelle\n"
     ]
    },
    {
     "data": {
      "application/vnd.jupyter.widget-view+json": {
       "model_id": "52d4c6e81dfa4982baf063b75c8500dc",
       "version_major": 2,
       "version_minor": 0
      },
      "text/plain": [
       "HTML(value='<b>Freizeit & Lifestyle:</b>')"
      ]
     },
     "metadata": {},
     "output_type": "display_data"
    },
    {
     "name": "stdout",
     "output_type": "stream",
     "text": [
      "- Fragen für Freizeitaktivitäten, z.B. bei Regenwetter mit Kleinkindern\n",
      "- Ideensammlung für Ausflüge in der Freizeit\n",
      "- Programmplanung der Ferien\n",
      "- Vorschlag für einen Mailtest\n"
     ]
    },
    {
     "data": {
      "application/vnd.jupyter.widget-view+json": {
       "model_id": "da618ff5d21845469bd32e53f01d49d8",
       "version_major": 2,
       "version_minor": 0
      },
      "text/plain": [
       "HTML(value='<b>Feedback & Repräsentation:</b>')"
      ]
     },
     "metadata": {},
     "output_type": "display_data"
    },
    {
     "name": "stdout",
     "output_type": "stream",
     "text": [
      "- Rückmeldung an das Institut an der BFH\n"
     ]
    }
   ],
   "source": [
    "import ipywidgets as widgets\n",
    "import networkx as nx\n",
    "import matplotlib.pyplot as plt\n",
    "\n",
    "# Topics associated with each category\n",
    "topics = {\n",
    "    \"Unterricht & Bildung\": [\n",
    "        \"MC Fragen Entwicklung\", \"Case Study entwickeln\", \"Unterrichtsvorbereitung\", \n",
    "        \"KI-Management in den Unterricht integrieren\", \"Grundlagen kennen lernen\", \n",
    "        \"Sinnvoller Einsatz für Lehre reflektieren\", \"Generieren von MC-Fragen\", \n",
    "        \"Brainstorming/Ideengenerierung (z.T. mit Studierenden)\", \n",
    "        \"Akademisches und berufliches Schreiben unterrichten\", \n",
    "        \"Funktionsweise von KI-Schreibtools\", \"Einsatzszenarien für KI-Schreibtools\", \n",
    "        \"Reflektierter Umgang mit KI-Schreibtools\", \n",
    "        \"Unterstützung für Schüler*innen mit sprachlichen Schwierigkeiten\", \n",
    "        \"Verständnis von Schreibtools\", \"Sinnvoller Einsatz von Schreibtools durch Studierende und Mitarbeitende\"\n",
    "    ],\n",
    "    \"Sprache & Schreiben\": [\n",
    "        \"Formulierungshilfe bei wissenschaftlichen Schreibarbeiten\", \n",
    "        \"Übersetzungen oder Überprüfungen von Texten in Deutsch\", \"Kreative Schreibübung\", \n",
    "        \"Übersetzungen\", \"Ideensammlung\", \"Textkorrekturen/-anpassungen\", \"Perspektivenwechsel\", \n",
    "        \"Szenarien erfinden lassen\", \"Mails verfassen\", \"Konzepte überprüfen\"\n",
    "    ],\n",
    "    \"Technologie & Innovation\": [\n",
    "        \"Diverses\", \"Zeitersparnis bei Vorbereitungen mithilfe neuer Technologien\", \n",
    "        \"Prüfungen mit KI\", \"Open Book Prüfungen\", \"Grenzen der KI ausloten\", \n",
    "        \"Interesse an Entwicklungen der Sprachmodelle\"\n",
    "    ],\n",
    "    \"Freizeit & Lifestyle\": [\n",
    "        \"Fragen für Freizeitaktivitäten, z.B. bei Regenwetter mit Kleinkindern\", \n",
    "        \"Ideensammlung für Ausflüge in der Freizeit\", \"Programmplanung der Ferien\", \n",
    "        \"Vorschlag für einen Mailtest\"\n",
    "    ],\n",
    "    \"Feedback & Repräsentation\": [\n",
    "        \"Rückmeldung an das Institut an der BFH\"\n",
    "    ]\n",
    "}\n",
    "\n",
    "# Function to display topics when a category is clicked\n",
    "def on_category_click(category):\n",
    "    display(widgets.HTML(f\"<b>{category}:</b>\"))\n",
    "    for topic in topics[category]:\n",
    "        print(f\"- {topic}\")\n",
    "\n",
    "# Create buttons for each category\n",
    "buttons = []\n",
    "for category in topics.keys():\n",
    "    button = widgets.Button(description=category)\n",
    "    button.on_click(lambda btn, cat=category: on_category_click(cat))\n",
    "    buttons.append(button)\n",
    "\n",
    "# Display buttons\n",
    "widgets.VBox(buttons)\n",
    "\n"
   ]
  },
  {
   "cell_type": "code",
   "execution_count": null,
   "metadata": {},
   "outputs": [],
   "source": []
  }
 ],
 "metadata": {
  "kernelspec": {
   "display_name": "Python 3",
   "language": "python",
   "name": "python3"
  },
  "language_info": {
   "codemirror_mode": {
    "name": "ipython",
    "version": 3
   },
   "file_extension": ".py",
   "mimetype": "text/x-python",
   "name": "python",
   "nbconvert_exporter": "python",
   "pygments_lexer": "ipython3",
   "version": "3.11.6"
  }
 },
 "nbformat": 4,
 "nbformat_minor": 2
}
