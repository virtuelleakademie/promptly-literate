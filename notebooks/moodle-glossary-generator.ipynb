{
 "cells": [
  {
   "cell_type": "markdown",
   "metadata": {},
   "source": [
    "# Use LLMs to generate a glossary for Moodle\n",
    "\n",
    "\n",
    "👉 [issue on\n",
    "Github](https://github.com/virtuelleakademie/promptly-literate/issues/6)\n",
    "\n",
    "\n",
    "**Steps:**\n",
    "\n",
    "+ load documents\n",
    "+ give list of terms or discover terms in documents\n",
    "+ find terms and their definitions in documents\n",
    "+ create pairs of terms and definitions\n",
    "+ give example XML code\n",
    "+ export terms as XML"
   ]
  },
  {
   "cell_type": "markdown",
   "metadata": {},
   "source": [
    "## Example prompt:\n",
    "\n",
    "You are an expert university lecturer on Bayesian statistics. Your job is to create a glossary of commonly used terms in Bayesian statistics and format this as an XML file for importing into Moodle.\n",
    "\n",
    "The structure of the XML file should look like the following (enclosed in \"\"\"):\n",
    "\n",
    "```xml\n",
    "\"\"\"\n",
    "<?xml version=\"1.0\" encoding=\"UTF-8\"?>\n",
    "<GLOSSARY>\n",
    "  <INFO>\n",
    "    <NAME>My big glossary</NAME>\n",
    "    <INTRO></INTRO>\n",
    "    <INTROFORMAT>1</INTROFORMAT>\n",
    "    <ALLOWDUPLICATEDENTRIES>0</ALLOWDUPLICATEDENTRIES>\n",
    "    <DISPLAYFORMAT>dictionary</DISPLAYFORMAT>\n",
    "    <SHOWSPECIAL>1</SHOWSPECIAL>\n",
    "    <SHOWALPHABET>1</SHOWALPHABET>\n",
    "    <SHOWALL>1</SHOWALL>\n",
    "    <ALLOWCOMMENTS>0</ALLOWCOMMENTS>\n",
    "    <USEDYNALINK>1</USEDYNALINK>\n",
    "    <DEFAULTAPPROVAL>1</DEFAULTAPPROVAL>\n",
    "    <GLOBALGLOSSARY>0</GLOBALGLOSSARY>\n",
    "    <ENTBYPAGE>10</ENTBYPAGE>\n",
    "    <ENTRIES>\n",
    "      <ENTRY>\n",
    "        <CONCEPT>glossary</CONCEPT>\n",
    "        <DEFINITION>&lt;p&gt;&lt;span apple_mouseover_highlight=&quot;1&quot;&gt;An&lt;/span&gt; &lt;span apple_mouseover_highlight=&quot;1&quot;&gt;alphabetical&lt;/span&gt;&lt;span&gt; list of words relating to a specific subject, text, or dialect, with explanations; a brief dictionary.&lt;/span&gt;&lt;/p&gt;</DEFINITION>\n",
    "        <FORMAT>1</FORMAT>\n",
    "        <USEDYNALINK>1</USEDYNALINK>\n",
    "        <CASESENSITIVE>0</CASESENSITIVE>\n",
    "        <FULLMATCH>0</FULLMATCH>\n",
    "        <TEACHERENTRY>1</TEACHERENTRY>\n",
    "      </ENTRY>\n",
    "    </ENTRIES>\n",
    "  </INFO>\n",
    "</GLOSSARY>\n",
    "\"\"\"\n",
    "```\n",
    "Each entry is enclosed in <ENTRY> tags, with the term in <CONCEPT> and the definition in <DEFINITION> tags."
   ]
  },
  {
   "cell_type": "markdown",
   "metadata": {},
   "source": []
  }
 ],
 "metadata": {
  "kernelspec": {
   "display_name": "Python 3",
   "language": "python",
   "name": "python3"
  },
  "language_info": {
   "name": "python",
   "version": "3.11.6"
  }
 },
 "nbformat": 4,
 "nbformat_minor": 2
}
