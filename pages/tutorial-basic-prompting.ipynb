{
  "cells": [
    {
      "cell_type": "raw",
      "metadata": {},
      "source": [
        "---\n",
        "title: \"Prompting basics\"\n",
        "description: |\n",
        "  Prompting a large language model.\n",
        "date: last-modified\n",
        "date-format: \"DD MMM, YYYY\"\n",
        "author: \n",
        "  - name: Andrew Ellis\n",
        "    url: https://github.com/awellis\n",
        "    affiliation: Virtuelle Akademie, Berner Fachhochschule\n",
        "    affiliation-url: https://virtuelleakademie.ch\n",
        "    orcid: 0000-0002-2788-936X\n",
        "license: CC BY\n",
        "citation: true\n",
        "bibliography: ../bibliography.bib\n",
        "format:\n",
        "    html:\n",
        "        toc: true\n",
        "        code-fold: true\n",
        "        code-link: true\n",
        "# jupyter: python3\n",
        "execute: \n",
        "  cache: false\n",
        "  keep-ipynb: true\n",
        "code-annotations: select\n",
        "---"
      ],
      "id": "042da39b"
    },
    {
      "cell_type": "markdown",
      "metadata": {},
      "source": [
        "## OpenAI\n"
      ],
      "id": "0cca757e"
    },
    {
      "cell_type": "code",
      "metadata": {},
      "source": [
        "from openai import OpenAI\n",
        "client = OpenAI()\n",
        "\n",
        "response = client.chat.completions.create(\n",
        "  model=\"gpt-4-turbo-preview\",\n",
        "  messages=[\n",
        "    {\n",
        "      \"role\": \"system\",\n",
        "      \"content\": \"When I ask for help to write something, you will reply with a document that contains at least one joke or playful comment in every paragraph.\"\n",
        "    },\n",
        "    {\n",
        "      \"role\": \"user\",\n",
        "      \"content\": \"Write a thank you note to my steel bolt vendor for getting the delivery in on time and in short notice. This made it possible for us to deliver an important order.\"\n",
        "    }\n",
        "  ],\n",
        "  temperature=0.7,\n",
        "  max_tokens=1024,\n",
        "  top_p=1,\n",
        "  frequency_penalty=0,\n",
        "  presence_penalty=0,\n",
        "  logprobs=True\n",
        ")"
      ],
      "id": "a3f9f86d",
      "execution_count": null,
      "outputs": []
    }
  ],
  "metadata": {
    "kernelspec": {
      "name": "python3",
      "language": "python",
      "display_name": "Python 3 (ipykernel)"
    }
  },
  "nbformat": 4,
  "nbformat_minor": 5
}