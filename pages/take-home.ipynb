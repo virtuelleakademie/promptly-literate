{
 "cells": [
  {
   "cell_type": "raw",
   "id": "818ce93b",
   "metadata": {},
   "source": [
    "---\n",
    "title: Take-home messages\n",
    "description: |\n",
    "  Programming a GPT model.\n",
    "date: last-modified\n",
    "date-format: 'DD MMM, YYYY'\n",
    "author:\n",
    "  - name: Andrew Ellis\n",
    "    url: 'https://github.com/awellis'\n",
    "    affiliation: 'Virtuelle Akademie, Berner Fachhochschule'\n",
    "    affiliation-url: 'https://virtuelleakademie.ch'\n",
    "    orcid: 0000-0002-2788-936X\n",
    "license: CC BY\n",
    "citation: true\n",
    "bibliography: ../bibliography.bib\n",
    "format:\n",
    "  html:\n",
    "    toc: true\n",
    "    code-fold: false\n",
    "    code-link: true\n",
    "execute:\n",
    "  cache: false\n",
    "  keep-ipynb: true\n",
    "code-annotations: select\n",
    "lightbox: auto\n",
    "---"
   ]
  },
  {
   "cell_type": "markdown",
   "id": "76e14d7b",
   "metadata": {},
   "source": [
    "1) An LLM is not a knowledge base, instead it's a statistical model of a knowledge base. An LLM is trained to be a language model.\n",
    "An LLM is a probabilistic model of its training corpus. It can be used to predict text auto-regressively.\n",
    "\n",
    "\n",
    " {{< fa chess-pawn >}}\n",
    " {{< fa thumbs-up >}} \n",
    "{{< fa calendar >}}\n",
    "\n",
    "![](../assets/robot.png)\n",
    "\n",
    "{{< youtube YDiSFS-yHwk >}}\n",
    "\n",
    "\n",
    "\n",
    "## Embed a presentation\n",
    "```{=html}\n",
    "<iframe width=\"800\" height=\"600\" src=\"../slides/demo.html\" title=\"Presentation example\"></iframe>\n",
    "```\n",
    "\n",
    "## Embed Miro board\n",
    "\n",
    "```{=html}\n",
    "<iframe width=\"768\" height=\"432\" src=\"https://miro.com/app/live-embed/uXjVNW_AhHc=/?moveToViewport=-777,-200,3208,2084&embedId=260483093652\" frameborder=\"0\" scrolling=\"no\" allow=\"fullscreen; clipboard-read; clipboard-write\" allowfullscreen></iframe>\n",
    "```"
   ]
  }
 ],
 "metadata": {
  "kernelspec": {
   "display_name": "Python 3 (ipykernel)",
   "language": "python",
   "name": "python3"
  },
  "language_info": {
   "codemirror_mode": {
    "name": "ipython",
    "version": 3
   },
   "file_extension": ".py",
   "mimetype": "text/x-python",
   "name": "python",
   "nbconvert_exporter": "python",
   "pygments_lexer": "ipython3",
   "version": "3.11.6"
  }
 },
 "nbformat": 4,
 "nbformat_minor": 5
}
