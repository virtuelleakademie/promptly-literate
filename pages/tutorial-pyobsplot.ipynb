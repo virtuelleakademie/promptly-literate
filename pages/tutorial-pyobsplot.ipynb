{
  "cells": [
    {
      "cell_type": "raw",
      "metadata": {},
      "source": [
        "---\n",
        "title: \"Prompting basics\"\n",
        "description: |\n",
        "  Prompting a large language model.\n",
        "date: last-modified\n",
        "date-format: \"DD MMM, YYYY\"\n",
        "author: \n",
        "  - name: Andrew Ellis\n",
        "    url: https://github.com/awellis\n",
        "    affiliation: Virtuelle Akademie, Berner Fachhochschule\n",
        "    affiliation-url: https://virtuelleakademie.ch\n",
        "    orcid: 0000-0002-2788-936X\n",
        "license: CC BY\n",
        "citation: true\n",
        "bibliography: ../bibliography.bib\n",
        "format:\n",
        "    html:\n",
        "        toc: true\n",
        "        code-fold: true\n",
        "        code-link: true\n",
        "# jupyter: python3\n",
        "execute: \n",
        "  cache: false\n",
        "  keep-ipynb: true\n",
        "code-annotations: select\n",
        "---"
      ],
      "id": "599c0c32"
    },
    {
      "cell_type": "markdown",
      "metadata": {},
      "source": [
        "## Pyobsplot demo\n"
      ],
      "id": "ded1ed43"
    },
    {
      "cell_type": "code",
      "metadata": {},
      "source": [
        "import polars as pl\n",
        "# from pyobsplot import Plot\n",
        "# from pyobsplot import Plot, d3, Math, js\n",
        "from pyobsplot import Obsplot, Plot, d3, js\n",
        "\n",
        "opw = Obsplot(renderer=\"widget\")\n",
        "# opj = Obsplot(renderer=\"jsdom\")                                                       # <1>\n",
        "\n",
        "penguins = pl.read_csv(\"https://github.com/juba/pyobsplot/raw/main/doc/data/penguins.csv\") # <2>"
      ],
      "id": "d9b2f4ab",
      "execution_count": null,
      "outputs": []
    },
    {
      "cell_type": "markdown",
      "metadata": {},
      "source": [
        "1. The `renderer` parameter can be set to `\"widget\"` or `\"jsdom\"`. The former is the default and uses the `ipywidgets` library to render the plot in a Jupyter notebook. The latter uses the `pywebview` library to render the plot in a separate window.\n",
        "2. The `penguins` dataset is a popular dataset from the `palmerpenguins` package in R. It contains measurements of penguins from three species: Adelie, Chinstrap, and Gentoo."
      ],
      "id": "b0ebe3df"
    },
    {
      "cell_type": "code",
      "metadata": {},
      "source": [
        "penguins"
      ],
      "id": "43a9f0dd",
      "execution_count": null,
      "outputs": []
    },
    {
      "cell_type": "code",
      "metadata": {},
      "source": [
        "Plot.plot({\n",
        "    \"grid\": True,\n",
        "    \"color\": {\"legend\": True},\n",
        "    \"marks\": [\n",
        "        Plot.dot(\n",
        "            penguins, \n",
        "            {\"x\": \"flipper_length_mm\", \"y\": \"body_mass_g\", \"fill\": \"species\"}\n",
        "        ),\n",
        "        Plot.density(\n",
        "            penguins, \n",
        "            {\"x\": \"flipper_length_mm\", \"y\": \"body_mass_g\", \"stroke\": \"species\"}\n",
        "        )\n",
        "    ]\n",
        "})"
      ],
      "id": "ec1d302f",
      "execution_count": null,
      "outputs": []
    },
    {
      "cell_type": "code",
      "metadata": {},
      "source": [
        "data = pl.DataFrame({\n",
        "    \"x\": [1, 5, 2, 4, 6, 2, 4],\n",
        "    \"y\": [2, 1, 3, 4, 5, 1, 2],\n",
        "    \"type\": [\"T1\", \"T2\", \"T1\", \"T2\", \"T1\", \"T1\", \"T2\"],\n",
        "})\n",
        "\n",
        "opw({\n",
        "    \"grid\": True,\n",
        "    \"marks\": [\n",
        "        Plot.dot(data, {\n",
        "            \"x\": \"x\", \"y\": \"y\", \"r\": 5,\n",
        "            \"stroke\": \"black\", \"fill\": \"steelblue\",\n",
        "            \"fillOpacity\": js(\"d => d.type == 'T1' ? 0.7 : 0.1\")\n",
        "        })\n",
        "    ]\n",
        "})"
      ],
      "id": "935751de",
      "execution_count": null,
      "outputs": []
    },
    {
      "cell_type": "markdown",
      "metadata": {},
      "source": [
        "<!-- \n",
        "```r\n",
        "library(tidyverse)\n",
        "library(palmerpenguins)\n",
        "penguins |>                                      # <1>\n",
        "  mutate(                                        # <2>\n",
        "    bill_ratio = bill_depth_mm / bill_length_mm, # <2>\n",
        "    bill_area  = bill_depth_mm * bill_length_mm  # <2>\n",
        "  )                                              # <2>\n",
        "```\n",
        "1. Take `penguins`, and then,\n",
        "2. add new columns for the bill ratio and bill area. -->"
      ],
      "id": "99291b37"
    }
  ],
  "metadata": {
    "kernelspec": {
      "name": "python3",
      "language": "python",
      "display_name": "Python 3 (ipykernel)"
    }
  },
  "nbformat": 4,
  "nbformat_minor": 5
}