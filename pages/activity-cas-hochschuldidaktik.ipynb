{
  "cells": [
    {
      "cell_type": "raw",
      "metadata": {},
      "source": [
        "---\n",
        "title: 'Activities: Learn Prompting'\n",
        "description: |\n",
        "  Basic programming techniques.\n",
        "date: last-modified\n",
        "date-format: 'DD MMM, YYYY'\n",
        "author:\n",
        "  - name: Andrew Ellis\n",
        "    url: 'https://github.com/awellis'\n",
        "    affiliation: 'Virtuelle Akademie, Berner Fachhochschule'\n",
        "    affiliation-url: 'https://virtuelleakademie.ch'\n",
        "    orcid: 0000-0002-2788-936X\n",
        "license: CC BY\n",
        "citation: true\n",
        "bibliography: ../bibliography.bib\n",
        "format:\n",
        "  html:\n",
        "    toc: true\n",
        "    code-fold: true\n",
        "    code-link: true\n",
        "    callout-appearance: simple\n",
        "    callout-icon: false\n",
        "execute:\n",
        "  cache: true\n",
        "  keep-ipynb: true\n",
        "  keep-md: true\n",
        "  output: asis\n",
        "  echo: false\n",
        "code-annotations: select\n",
        "---"
      ],
      "id": "e28b7553"
    },
    {
      "cell_type": "markdown",
      "metadata": {},
      "source": [
        "Designing effective prompts to instruct LLMS to generate a desired output is referred to as _prompt engineering_. This activity will guide you through the process of creating prompts for LLMs.\n"
      ],
      "id": "f4084c8f"
    },
    {
      "cell_type": "code",
      "metadata": {},
      "source": [
        "#| echo: false\n",
        "import openai\n",
        "from openai import OpenAI\n",
        "client = OpenAI()\n",
        "import os\n",
        "import markdown\n",
        "\n",
        "from dotenv import load_dotenv\n",
        "load_dotenv()\n",
        "\n",
        "openai.api_key  = os.getenv('OPENAI_API_KEY')\n",
        "\n",
        "from IPython.display import display, Markdown, Latex, HTML, JSON"
      ],
      "id": "71c8a2d3",
      "execution_count": null,
      "outputs": []
    },
    {
      "cell_type": "code",
      "metadata": {},
      "source": [
        "#| echo: false\n",
        "def get_response(prompt, model=\"gpt-4-turbo-preview\", temperature=0.6):\n",
        "    messages = [{\"role\": \"user\", \"content\": prompt}]\n",
        "    response = client.chat.completions.create(\n",
        "        model=model,\n",
        "        messages=messages,\n",
        "        temperature=temperature,\n",
        "    )\n",
        "    # response = response.choices[0].message.content\n",
        "    response = markdown.markdown(response.choices[0].message.content)\n",
        "    return response"
      ],
      "id": "99577d5a",
      "execution_count": null,
      "outputs": []
    },
    {
      "cell_type": "markdown",
      "metadata": {},
      "source": [
        "## Prompting Guidelines\n",
        "\n",
        "In this activity, you can explore various prompting guides for LLMs. They more or less all converge on the same set of techniques. You can then use these techniques to write your own prompts\n",
        "\n",
        "OpenAI give a set of [{{< bi link >}} strategies](https://platform.openai.com/docs/guides/prompt-engineering/six-strategies-for-getting-better-results)  for using their models.\n",
        "\n",
        "\n",
        "These include:\n",
        "\n",
        "- writing clear instructions\n",
        "- providing reference texts\n",
        "- splitting tasks into subtasks\n",
        "- giving GPT 'time to think'\n",
        "- using external tools\n",
        "\n",
        "\n",
        "Some general techniques are:\n",
        "\n",
        "- **Numbered Steps:**: For sequential tasks, use numbered steps. This helps the model understand the sequence of actions.\n",
        "\n",
        "- **Use delimiters:** To separate various parts of the prompt (e.g. `\"`, \\`,, `'`, `|`, `#`, ...).\n",
        "\n",
        "\n",
        "- **Few-shot prompting:** Provide a few examples for guidance.\n",
        "  \n",
        " \n",
        "- **Give the LLM a role:** Make the model assume a role. For example, instruct the model to `act like a tutor` or `you are an expert programmer.`\n",
        "  \n",
        "  \n",
        "- **Iterate and refine prompts:** Often, you won't get your desired result straight away. Improve your prompting strategy iteratively, and then once you are happy, choose your final prompt and use it in a new chat session.\n",
        "\n",
        "\n",
        "Combining these techniques, a template prompt might look like this:\n",
        "\n",
        ":::{.callout-tip}\n",
        "## Template\n",
        "1) Role: who is being simulated?\n",
        "2) Task: what is to be done?\n",
        "3) Steps: what are the steps to complete the task?\n",
        "4) Context: what is the context of the task?\n",
        "5) Goal: what is the goal of the task?\n",
        "6) Format: what is the format of the output? How long should it be?\n",
        ":::\n",
        "\n",
        "Remember to structure your prompt in a way that is clear and easy to understand. You can use markdown to format your prompt, and you instruct the mode to format its response using markdown.\n",
        "\n",
        "\n",
        "## Examples\n",
        "\n",
        "### Adopt a persona"
      ],
      "id": "591e575e"
    },
    {
      "cell_type": "code",
      "metadata": {},
      "source": [
        "#| output: asis\n",
        "response = get_response(\"\"\"You are an expert on the topic of university education and didactics. Explain the concept of \"flipped classroom\" to a group of teachers. Use markdown to format your response. Keep your explanation concise and to the point.\"\"\")"
      ],
      "id": "cd8b38f5",
      "execution_count": null,
      "outputs": []
    },
    {
      "cell_type": "markdown",
      "metadata": {},
      "source": [
        ":::{.callout-note}\n",
        "## {{< bi person >}} Prompt:\n",
        "You are an expert on the topic of university education and didactics. Explain the concept of \"flipped classroom\" to a group of teachers. Use markdown to format your response. Keep you explanation concise and to the point.\n",
        ":::\n",
        "\n",
        ":::{.callout-warning collapse=\"true\"}\n",
        "## {{< bi robot >}} Output"
      ],
      "id": "909d87b5"
    },
    {
      "cell_type": "code",
      "metadata": {},
      "source": [
        "#| output: asis\n",
        "\n",
        "display(Markdown(response))"
      ],
      "id": "1043c46a",
      "execution_count": null,
      "outputs": []
    },
    {
      "cell_type": "markdown",
      "metadata": {},
      "source": [
        ":::\n",
        "\n",
        "Now let's try a different persona:\n"
      ],
      "id": "bce9a4e7"
    },
    {
      "cell_type": "code",
      "metadata": {},
      "source": [
        "#| output: asis\n",
        "response = get_response(\"\"\"You are 13 year old high school student. Explain the concept of \"flipped classroom\" to your friends. Use markdown to format your response. Keep your explanation concise and to the point.\"\"\")"
      ],
      "id": "11323d5c",
      "execution_count": null,
      "outputs": []
    },
    {
      "cell_type": "markdown",
      "metadata": {},
      "source": [
        ":::{.callout-note}\n",
        "## {{< bi person >}} Prompt:\n",
        "You are 13 year old high school student. Explain the concept of \"flipped classroom\" to your friends. Use markdown to format your response. Keep you explanation concise and to the point.\n",
        ":::\n",
        "\n",
        ":::{.callout-warning collapse=\"true\"}\n",
        "## {{< bi robot >}} Output"
      ],
      "id": "e40874f4"
    },
    {
      "cell_type": "code",
      "metadata": {},
      "source": [
        "#| output: asis\n",
        "\n",
        "display(Markdown(response))"
      ],
      "id": "4f41fb50",
      "execution_count": null,
      "outputs": []
    },
    {
      "cell_type": "markdown",
      "metadata": {},
      "source": [
        ":::\n",
        "\n",
        "\n",
        "\n",
        "### Reference texts\n",
        "\n",
        ":::{.callout-note}\n",
        "## {{< bi person >}} Prompt:\n",
        "You will be provided with \n",
        "\n",
        "- context: documents delimited by **triple quotes**\n",
        "- a question \n",
        "\n",
        "Your task is to provide a simplified answer to the question using only the provided document and to cite the passage(s) of the document used to answer the question. If the document does not contain the information needed to answer this question then simply write: \"Insufficient information.\" If an answer to the question is provided, it must be annotated with a citation. Use the following format for to cite relevant passages ({\"citation\": …}). Cite only the relevant sentence(s) of the document, not the entire document.\n",
        "\n",
        "**Document 1**: '''The flipped classroom intentionally shifts instruction to a learner-centered model, in which students are often initially introduced to new topics outside of school, freeing up classroom time for the exploration of topics in greater depth, creating meaningful learning opportunities.'''\n",
        "\n",
        "**Document 2**:'''With a flipped classroom, 'content delivery' may take a variety of forms, often featuring video lessons prepared by the teacher or third parties, although online collaborative discussions, digital research, and text readings may alternatively be used. The ideal length for a video lesson is widely cited as eight to twelve minutes.'''\n",
        "\n",
        "\n",
        "**Question**: What is a good length for a video?\n",
        ":::\n"
      ],
      "id": "8c111496"
    },
    {
      "cell_type": "code",
      "metadata": {},
      "source": [
        "#| output: asis\n",
        "response = get_response(\"\"\"\n",
        "You will be provided with \n",
        "\n",
        "- context: documents delimited by **triple quotes**\n",
        "- a question \n",
        "\n",
        "Your task is to provide a simplified answer to the question using only the provided document and to cite the passage(s) of the document used to answer the question. If the document does not contain the information needed to answer this question then simply write: \"Insufficient information.\" If an answer to the question is provided, it must be annotated with a citation. Use the following format for to cite relevant passages (\"SOURCE\": …). Cite only the relevant sentence(s) of the document, not the entire document.\n",
        "\n",
        "**Document 1**:'''The flipped classroom intentionally shifts instruction to a learner-centered model, in which students are often initially introduced to new topics outside of school, freeing up classroom time for the exploration of topics in greater depth, creating meaningful learning opportunities.'''\n",
        "\n",
        "**Document 2**:'''With a flipped classroom, 'content delivery' may take a variety of forms, often featuring video lessons prepared by the teacher or third parties, although online collaborative discussions, digital research, and text readings may alternatively be used. The ideal length for a video lesson is widely cited as eight to twelve minutes.'''\n",
        "\n",
        "\n",
        "**Question**: What is a good length for a video?\n",
        "\"\"\"\n",
        ")"
      ],
      "id": "9bf636c7",
      "execution_count": null,
      "outputs": []
    },
    {
      "cell_type": "markdown",
      "metadata": {},
      "source": [
        ":::{.callout-warning collapse=\"true\"}\n",
        "## {{< bi robot >}} Output"
      ],
      "id": "9fbd1467"
    },
    {
      "cell_type": "code",
      "metadata": {},
      "source": [
        "#| output: asis\n",
        "display(Markdown(response))"
      ],
      "id": "9ac283db",
      "execution_count": null,
      "outputs": []
    },
    {
      "cell_type": "markdown",
      "metadata": {},
      "source": [
        ":::\n",
        "\n",
        "\n",
        "Try asking a question that cannot be answered with the provided documents:\n"
      ],
      "id": "e9f3a3df"
    },
    {
      "cell_type": "code",
      "metadata": {},
      "source": [
        "#| output: asis\n",
        "response = get_response(\"\"\"\n",
        "You will be provided with \n",
        "\n",
        "- context: documents delimited by **triple quotes**\n",
        "- a question \n",
        "\n",
        "Your task is to provide a simplified answer to the question using only the provided document and to cite the passage(s) of the document used to answer the question. If the document does not contain the information needed to answer this question then simply write: \"Insufficient information.\" If an answer to the question is provided, it must be annotated with a citation. Use the following format for to cite relevant passages (\"SOURCE\": …). Cite only the relevant sentence(s) of the document, not the entire document.\n",
        "\n",
        "**Document 1**:'''The flipped classroom intentionally shifts instruction to a learner-centered model, in which students are often initially introduced to new topics outside of school, freeing up classroom time for the exploration of topics in greater depth, creating meaningful learning opportunities.'''\n",
        "\n",
        "**Document 2**:'''With a flipped classroom, 'content delivery' may take a variety of forms, often featuring video lessons prepared by the teacher or third parties, although online collaborative discussions, digital research, and text readings may alternatively be used. The ideal length for a video lesson is widely cited as eight to twelve minutes.'''\n",
        "\n",
        "\n",
        "**Question**: Can you recommend a good book on the topic of flipped classrooms?\n",
        "\"\"\")"
      ],
      "id": "01924f92",
      "execution_count": null,
      "outputs": []
    },
    {
      "cell_type": "markdown",
      "metadata": {},
      "source": [
        ":::{.callout-note}\n",
        "## {{< bi person >}} Prompt:\n",
        "You will be provided with \n",
        "\n",
        "- context: documents delimited by **triple quotes**\n",
        "- a question \n",
        "\n",
        "Your task is to provide a simplified answer to the question using only the provided document and to cite the passage(s) of the document used to answer the question. If the document does not contain the information needed to answer this question then simply write: \"Insufficient information.\" If an answer to the question is provided, it must be annotated with a citation. Use the following format for to cite relevant passages (\"SOURCE\": …). Cite only the relevant sentence(s) of the document, not the entire document.\n",
        "\n",
        "**Document 1**:'''The flipped classroom intentionally shifts instruction to a learner-centered model, in which students are often initially introduced to new topics outside of school, freeing up classroom time for the exploration of topics in greater depth, creating meaningful learning opportunities.'''\n",
        "\n",
        "**Document 2**:'''With a flipped classroom, 'content delivery' may take a variety of forms, often featuring video lessons prepared by the teacher or third parties, although online collaborative discussions, digital research, and text readings may alternatively be used. The ideal length for a video lesson is widely cited as eight to twelve minutes.'''\n",
        "\n",
        "\n",
        "**Question**: Can you recommend a good book on the topic of flipped classrooms?\n",
        ":::\n",
        "\n",
        ":::{.callout-warning collapse=\"true\"}\n",
        "## {{< bi robot >}} Output"
      ],
      "id": "412b0c37"
    },
    {
      "cell_type": "code",
      "metadata": {},
      "source": [
        "#| output: asis\n",
        "display(Markdown(response))"
      ],
      "id": "5264e91c",
      "execution_count": null,
      "outputs": []
    },
    {
      "cell_type": "markdown",
      "metadata": {},
      "source": [
        ":::\n",
        "\n",
        "\n",
        "\n",
        "### Structured output\n",
        "\n",
        "You can also use prompts to instruct the model to produce structured output. For example, you can ask the model to give you a table.\n"
      ],
      "id": "c1c0d0fe"
    },
    {
      "cell_type": "code",
      "metadata": {},
      "source": [
        "#| output: asis\n",
        "response = get_response(\"You are a high school teacher. Give me a table containing Greek letters in one column, their pronunciation in the second column, and examples of usage in the third column. Give me a maximum of 6 rows. DO NOT USE ::: in the table.\")"
      ],
      "id": "6a1491a6",
      "execution_count": null,
      "outputs": []
    },
    {
      "cell_type": "markdown",
      "metadata": {},
      "source": [
        ":::{.callout-note}\n",
        "## {{< bi person >}} Prompt:\n",
        "You are a high school teacher. Give me a table containing Greek letters in one column, their pronunciation in the second column, and examples of usage in the third column. Give me a maximum of 6 rows.\n",
        ":::\n",
        "\n",
        "\n",
        "\n",
        ":::{.callout-warning collapse=\"true\"}\n",
        "**{{< bi robot >}} Output:**\n",
        ":::\n"
      ],
      "id": "a0f09b7a"
    },
    {
      "cell_type": "code",
      "metadata": {},
      "source": [
        "#| output: asis\n",
        "display(Markdown(response))"
      ],
      "id": "eaf7e79e",
      "execution_count": null,
      "outputs": []
    },
    {
      "cell_type": "markdown",
      "metadata": {},
      "source": [
        "<!-- ::: -->\n",
        "\n",
        "\n",
        "\n",
        "\n",
        "\n",
        "## Exercises\n",
        "\n",
        "\n",
        "(@) **Write a prompt** that will make ChatGPT or Copilot act as a writing critic.\n",
        "\n",
        "You can use this as your starting point, and then iteratively improve it.\n",
        "\n",
        ":::aside\n",
        "Your first step could be to translate this into German.\n",
        ":::\n",
        "\n",
        ":::{.callout-note}\n",
        "## Feedback on a text\n",
        "I want you to act as a [harsh/constructive] critic. Criticize what I give to you and show me where my argumentation is lacking. Start by asking me what text I would like feedback on. Then give me your feedback.\n",
        ":::\n",
        "\n",
        "\n",
        "If you need an essay, you can use this one. There should be plenty to criticize.\n",
        "\n",
        ":::{.callout-note collapse=\"true\"}\n",
        "## Essay\n",
        "\n",
        "**Sollten Schulnoten abgeschafft werden?**\n",
        "\n",
        "In unserer heutigen Bildungswelt gibt es viele verschiedene Methoden, um den Fortschritt und das Wissen eines Schülers zu messen. Eine der gebräuchlichsten Methoden sind Schulnoten. Aber sollten wir wirklich Noten verwenden, um den Wert eines Schülers zu bestimmen? Ich glaube, dass Noten in Schulen abgeschafft werden sollten, und hier sind meine Gründe dafür:\n",
        "\n",
        "Erstens, Noten sind oft subjektiv. Verschiedene Lehrer haben unterschiedliche Meinungen darüber, was eine \"A\" -Arbeit im Vergleich zu einer \"B\" -Arbeit ist. Ein Schüler könnte in einem Fach bei einem Lehrer eine \"A\" bekommen und bei einem anderen Lehrer eine \"B\". Dies zeigt, dass Noten nicht immer ein genaues Bild von dem Wissen eines Schülers geben.\n",
        "\n",
        "Zweitens, Noten erzeugen unnötigen Druck. Viele Schüler fühlen sich durch die Noten, die sie bekommen, gestresst und überfordert. Dieser Druck kann zu Angstzuständen, Depressionen und anderen gesundheitlichen Problemen führen. Wenn es keine Noten gäbe, könnten sich die Schüler mehr auf das Lernen konzentrieren und weniger darauf, eine bestimmte Note zu bekommen.\n",
        "\n",
        "Drittens, durch die Abschaffung von Noten könnten Schüler mehr Freiheit in ihrer Bildung haben. Sie könnten Themen studieren, die sie wirklich interessieren, anstatt sich darauf zu konzentrieren, welche Themen ihnen die besten Noten bringen würden. Dies könnte zu einer besseren und umfassenderen Bildung führen.\n",
        "\n",
        "Einige könnten argumentieren, dass Noten notwendig sind, um den Fortschritt eines Schülers zu messen. Aber es gibt viele andere Möglichkeiten, den Fortschritt zu messen, wie zum Beispiel Portfolios, Präsentationen oder Projekte. Diese Methoden könnten ein genaueres Bild von dem Wissen und den Fähigkeiten eines Schülers geben.\n",
        "\n",
        "Abschliessend glaube ich, dass Schulnoten mehr Schaden als Nutzen bringen. Sie sind oft subjektiv, erzeugen unnötigen Druck und beschränken die Freiheit der Schüler. Es ist an der Zeit, dass wir ein neues System finden, um den Fortschritt und das Wissen unserer Schüler zu messen.\n",
        ":::\n",
        "\n",
        "\n",
        "(@) What role should the model assume?\n",
        "(@) What is the task? Try to have the essay critiqued, and then ask for suggestions for improvement.\n",
        "(@) Have the model provide an improved version of the essay.\n",
        "(@) Instruct the model to show you the changes it made to the essay (you can use markdown to format the output).\n",
        "(@) Instruct the model to list the changes it made to the essay in a table, and to explain why it made each change.\n",
        "(@) Reflection: Did your prompting strategies work? What worked well? What didn't work well? \n",
        "\n",
        "\n",
        "\n",
        "## Further Resources\n",
        "\n",
        "(@) **Explore these prompt guides**. Use both/either ChatGPT and Copilot to try out new ideas.\n",
        "\n",
        ":::{.callout-tip collapse=\"true\"}\n",
        "## Learn prompting: An comprehensive (and free) guide aimed at non-technical users.\n",
        "{{< bi link >}} [Learn prompting](https://learnprompting.org/docs/intro)\n",
        "\n",
        "\n",
        "```{=html}\n",
        "<iframe src=\"https://learnprompting.org/docs/intro\" width=\"100%\" height=\"500px\"></iframe>\n",
        "``` \n",
        "\n",
        ":::\n",
        "\n",
        "\n",
        ":::{.callout-tip collapse=\"true\"}\n",
        "## Prompting guide: A more technical guide to prompting\n",
        "{{< bi link >}} [Prompting guide](https://www.promptingguide.ai/): **DAIR.AI** (Democratizing Artificial Intelligence Research, Education, and Technologies). The guide is licensed under an MIT license.\n",
        "\n",
        "\n",
        "```{=html}\n",
        "<iframe src=\"https://www.promptingguide.ai/\" width=\"100%\" height=\"500px\"></iframe>\n",
        "``` \n",
        "\n",
        ":::\n",
        "\n",
        "\n",
        "\n",
        "\n",
        "\n",
        "\n",
        "<!-- \n",
        ":::{.callout-caution}\n",
        "## Discussion 💬 \n",
        "\n",
        "- What experiences did you have with prompting?\n",
        "- Did you find any of the techniques particularly useful?\n",
        "::: -->\n"
      ],
      "id": "60aef5ee"
    }
  ],
  "metadata": {
    "kernelspec": {
      "name": "python3",
      "language": "python",
      "display_name": "Python 3 (ipykernel)"
    }
  },
  "nbformat": 4,
  "nbformat_minor": 5
}