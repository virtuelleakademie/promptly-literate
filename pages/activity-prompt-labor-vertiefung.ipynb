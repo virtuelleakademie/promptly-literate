{
  "cells": [
    {
      "cell_type": "raw",
      "metadata": {},
      "source": [
        "---\n",
        "title: 'Activity: Prompt-Labor Vertiefung'\n",
        "description: |\n",
        "  Arbeitsauftrag.\n",
        "date: last-modified\n",
        "date-format: 'DD MMM, YYYY'\n",
        "author:\n",
        "  - name: Andrew Ellis\n",
        "    url: 'https://github.com/awellis'\n",
        "    affiliation: 'Virtuelle Akademie, Berner Fachhochschule'\n",
        "    affiliation-url: 'https://virtuelleakademie.ch'\n",
        "    orcid: 0000-0002-2788-936X\n",
        "  - name: Kaspar Kaufmann\n",
        "    affiliation: 'Virtuelle Akademie, Berner Fachhochschule'\n",
        "    affiliation-url: 'https://virtuelleakademie.ch'\n",
        "    orcid: 0000-0001-9825-103X\n",
        "license: CC BY\n",
        "citation: true\n",
        "bibliography: ../bibliography.bib\n",
        "format:\n",
        "  html:\n",
        "    toc: true\n",
        "    code-fold: true\n",
        "    code-link: true\n",
        "execute:\n",
        "  cache: false\n",
        "  keep-ipynb: true\n",
        "code-annotations: select\n",
        "---"
      ],
      "id": "04ba224b"
    },
    {
      "cell_type": "markdown",
      "metadata": {},
      "source": [
        "## Ausgangslage\n",
        "@mollickUsingAIImplement2023 haben in ihrem Artikel fünf mögliche Strategien für die Verwendung von LLMs für die Lehre vorgestellt. Als erste Strategie nennen @mollickUsingAIImplement2023 die Möglichkeit, mit Hilfe von KI viele unterschiedliche Beispiele zu produzieren (Strategy 1: Using AI to Produce Many Varied Examples):\n",
        "\n",
        "> Students need many examples when learning complicated concepts @kirschnerHowTeachingHappens2022]. When confronted with new and complex ideas, adding many and varied examples helps students better understand them. If students are presented with only one example, they may focus on the superficial details of that example and not get at the deeper concept. Multiple examples of a single concept can help students decontextualize the idea from the example, leading to better recall and understanding.\n",
        "\n",
        "> Creating examples for instructional purposes can be a time-consuming and challenging task for educators, especially when they aim to produce diverse examples that effectively illustrate various aspects of a concept. Educators often have packed schedules and numerous responsibilities, which adds to the complexity of generating examples that meet specific criteria. When crafting examples, instructors need to contemplate several factors: Are the examples engaging and relevant to the students? For instance, incorporating real-world problems or issues can help tailor the examples to pique students' interest. Do the examples strike the right balance between detail and clarity? Ensuring that examples are neither overly intricate nor excessively simple is vital. (S. 3)\n",
        " \n",
        "@mollickUsingAIImplement2023 präsentieren Beispielprompts, wie man ein LLM anweisen kann, diese Strategie umzusetzen. Da wir jedoch wissen, dass LLMs gewisse Limitationen haben - Halluzinationen, Model Drift bzw. mangelnde zeitliche Konsistenz der Outputs, mangelnde Transparenz der Modelle - kann es sinnvoll sein, Retrieval Augmented Generation (RAG) zu verwenden. Im Rahmen dieser Aktivität wirst du sowohl das von @mollickUsingAIImplement2023 vorgeschlagene Vorgehen als auch ein Vorgehen mit RAG verwenden und reflektieren.\n",
        "\n",
        "\n",
        "\n",
        "\n",
        "## References {#sec-references}"
      ],
      "id": "6c0cce46"
    }
  ],
  "metadata": {
    "kernelspec": {
      "name": "python3",
      "language": "python",
      "display_name": "Python 3 (ipykernel)"
    }
  },
  "nbformat": 4,
  "nbformat_minor": 5
}