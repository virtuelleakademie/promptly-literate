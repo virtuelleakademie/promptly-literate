{
  "cells": [
    {
      "cell_type": "raw",
      "metadata": {},
      "source": [
        "---\n",
        "title: 'Activity 3: Share you prompts'\n",
        "description: |\n",
        "  Programming a GPT model.\n",
        "date: last-modified\n",
        "date-format: 'DD MMM, YYYY'\n",
        "author:\n",
        "  - name: Andrew Ellis\n",
        "    url: 'https://github.com/awellis'\n",
        "    affiliation: 'Virtuelle Akademie, Berner Fachhochschule'\n",
        "    affiliation-url: 'https://virtuelleakademie.ch'\n",
        "    orcid: 0000-0002-2788-936X\n",
        "license: CC BY\n",
        "citation: true\n",
        "bibliography: ../bibliography.bib\n",
        "format:\n",
        "  html:\n",
        "    toc: true\n",
        "    code-fold: true\n",
        "    code-link: true\n",
        "execute:\n",
        "  cache: false\n",
        "  keep-ipynb: true\n",
        "code-annotations: select\n",
        "lightbox: auto\n",
        "---"
      ],
      "id": "c31b78b7"
    },
    {
      "cell_type": "markdown",
      "metadata": {},
      "source": [
        "## Miro board\n",
        "\n",
        "Add your prompts to the Miro board below. You can add text, images, or links to other resources. You can also add comments to other people's prompts.\n",
        "\n",
        "\n",
        "```{=html}\n",
        "<iframe width=\"768\" height=\"432\" src=\"https://miro.com/app/live-embed/uXjVNW_AhHc=/?moveToViewport=-777,-200,3208,2084&embedId=260483093652\" frameborder=\"0\" scrolling=\"no\" allow=\"fullscreen; clipboard-read; clipboard-write\" allowfullscreen></iframe>\n",
        "```\n",
        "\n",
        "\n",
        "Or [open 🔗 externally](https://miro.com/app/board/uXjVNW_AhHc=/?share_link_id=410125738019)\n"
      ],
      "id": "5a82cf95"
    }
  ],
  "metadata": {
    "kernelspec": {
      "name": "python3",
      "language": "python",
      "display_name": "Python 3 (ipykernel)"
    }
  },
  "nbformat": 4,
  "nbformat_minor": 5
}